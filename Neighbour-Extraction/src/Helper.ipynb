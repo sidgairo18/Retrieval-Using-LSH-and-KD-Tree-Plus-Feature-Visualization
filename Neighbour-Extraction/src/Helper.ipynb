{
 "cells": [
  {
   "cell_type": "markdown",
   "metadata": {},
   "source": [
    "# Helper Functions"
   ]
  },
  {
   "cell_type": "markdown",
   "metadata": {},
   "source": [
    "### sampleImages\n",
    "Randomly sample `batch_size` images from the passed directory"
   ]
  },
  {
   "cell_type": "code",
   "execution_count": null,
   "metadata": {},
   "outputs": [],
   "source": [
    "import os\n",
    "import random\n",
    "from PIL import Image\n",
    "\n",
    "imagesLoaded = 0\n",
    "fileNames = None\n",
    "\n",
    "def sampleImages(directory, batch_size, start=None, testing=False):\n",
    "    global imagesLoaded\n",
    "    global fileNames\n",
    "    \n",
    "    if fileNames == None:\n",
    "        fileNames = os.listdir(directory)\n",
    "        random.shuffle(fileNames)\n",
    "\n",
    "    if start == None:\n",
    "        start = imagesLoaded\n",
    "\n",
    "    names = fileNames[start:start + batch_size]\n",
    "        \n",
    "    if testing:\n",
    "        print(len(names), \"images loaded.\")\n",
    "        print(\"[\", start, \"-\", start+len(names)-1, \"]\")\n",
    "    \n",
    "    images = []\n",
    "    for name in names:\n",
    "        images.append(Image.open(directory + name))\n",
    "    \n",
    "    imagesLoaded = max(start + len(names), imagesLoaded)\n",
    "    \n",
    "    return images"
   ]
  },
  {
   "cell_type": "code",
   "execution_count": 7,
   "metadata": {},
   "outputs": [],
   "source": [
    "from torchvision import datasets, models, transforms\n",
    "import torchvision\n",
    "import torch\n",
    "import numpy as np\n",
    "import matplotlib.pyplot as plt\n",
    "# %matplotlib inline\n",
    "\n",
    "mean = [0.485, 0.456, 0.406]\n",
    "std = [0.229, 0.224, 0.225]\n",
    "imsize = 128\n",
    "\n",
    "data_transform = transforms.Compose([\n",
    "        transforms.Resize((128, 128)),\n",
    "        transforms.ToTensor(),\n",
    "        transforms.Normalize(mean=mean, std=std)\n",
    "    ])\n",
    "\n",
    "def imshow(inp, title=None):\n",
    "    \"\"\"Imshow for Tensor.\"\"\"\n",
    "    global mean\n",
    "    global std\n",
    "    inp = inp.numpy().transpose((1, 2, 0))\n",
    "    mean = np.array(mean)\n",
    "    std = np.array(std)\n",
    "    inp = std * inp + mean\n",
    "    inp = np.clip(inp, 0, 1)\n",
    "    plt.imshow(inp)\n",
    "    if title is not None:\n",
    "        plt.title(title)\n",
    "    plt.pause(0.001)  # pause a bit so that plots are updated\n",
    "\n",
    "def getDataLoader(directory, batch_size=4, shuffle=False, num_workers=4, testing=False):\n",
    "    global data_transform\n",
    "    dataset = datasets.ImageFolder(root=directory, transform=data_transform)\n",
    "    loader = torch.utils.data.DataLoader(dataset,batch_size=batch_size,\n",
    "                                         shuffle=shuffle, num_workers=num_workers)\n",
    "    \n",
    "    if testing is True:\n",
    "        # Get a batch of training data\n",
    "        inputs, classes = next(iter(loader))\n",
    "\n",
    "        # Make a grid from batch\n",
    "        out = torchvision.utils.make_grid(inputs)\n",
    "\n",
    "        imshow(out, title=[x for x in classes])\n",
    "    \n",
    "    return loader"
   ]
  }
 ],
 "metadata": {
  "kernelspec": {
   "display_name": "Python 3",
   "language": "python",
   "name": "python3"
  },
  "language_info": {
   "codemirror_mode": {
    "name": "ipython",
    "version": 3
   },
   "file_extension": ".py",
   "mimetype": "text/x-python",
   "name": "python",
   "nbconvert_exporter": "python",
   "pygments_lexer": "ipython3",
   "version": "3.5.2"
  }
 },
 "nbformat": 4,
 "nbformat_minor": 2
}
