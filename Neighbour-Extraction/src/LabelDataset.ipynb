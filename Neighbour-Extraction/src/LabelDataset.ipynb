{
 "cells": [
  {
   "cell_type": "markdown",
   "metadata": {},
   "source": [
    "# Dataset Labeling\n"
   ]
  },
  {
   "cell_type": "code",
   "execution_count": 1,
   "metadata": {},
   "outputs": [
    {
     "name": "stdout",
     "output_type": "stream",
     "text": [
      "121000\n",
      "Creating /scratch/bam_subset_2_0_labeled/3\n",
      "Creating /scratch/bam_subset_2_0_labeled/1\n",
      "Creating /scratch/bam_subset_2_0_labeled/0\n",
      "Creating /scratch/bam_subset_2_0_labeled/5\n",
      "Creating /scratch/bam_subset_2_0_labeled/7\n",
      "Creating /scratch/bam_subset_2_0_labeled/4\n",
      "Creating /scratch/bam_subset_2_0_labeled/8\n",
      "Creating /scratch/bam_subset_2_0_labeled/6\n",
      "Creating /scratch/bam_subset_2_0_labeled/9\n",
      "Creating /scratch/bam_subset_2_0_labeled/10\n",
      "Creating /scratch/bam_subset_2_0_labeled/2\n",
      "120000\r"
     ]
    }
   ],
   "source": [
    "if __name__ == '__main__':\n",
    "    import os\n",
    "    import pickle\n",
    "\n",
    "    directory = '/scratch/bam_subset_2_0_labeled/'\n",
    "\n",
    "    labels = None\n",
    "    with open('../bam_2_0_image_style_labels.pkl', 'rb') as handle:\n",
    "        labels = pickle.load(handle)\n",
    "\n",
    "    print(len(labels))\n",
    "\n",
    "    i = 0\n",
    "    for i, imgName in enumerate(labels):\n",
    "        newDir = directory + str(labels[imgName])\n",
    "        if not os.path.exists(newDir):\n",
    "            print(\"Creating\", newDir)\n",
    "            os.makedirs(newDir)\n",
    "\n",
    "        if os.path.isfile(directory + imgName):\n",
    "            os.rename(directory + imgName, newDir + '/' + imgName)\n",
    "\n",
    "        if (i%1000 == 0):\n",
    "            print(i, end='\\r')"
   ]
  },
  {
   "cell_type": "code",
   "execution_count": 2,
   "metadata": {},
   "outputs": [
    {
     "name": "stdout",
     "output_type": "stream",
     "text": [
      "42185\n",
      "\n",
      "Created  /scratch/imdb_dataset/thrillerfamily\n",
      "Created  /scratch/imdb_dataset/thrillercomedy\n",
      "Created  /scratch/imdb_dataset/thrillercrime\n",
      "Created  /scratch/imdb_dataset/thrillerdrama\n",
      "Created  /scratch/imdb_dataset/thrilleraction\n",
      "Created  /scratch/imdb_dataset/thrillermusic\n",
      "Created  /scratch/imdb_dataset/thrillerhistory\n",
      "Created  /scratch/imdb_dataset/thrillerthriller\n",
      "Created  /scratch/imdb_dataset/thrillerhorror\n",
      "Created  /scratch/imdb_dataset/thrillersci-fi\n",
      "Created  /scratch/imdb_dataset/thrilleradventure\n",
      "Created  /scratch/imdb_dataset/thrillerbiography\n",
      "Created  /scratch/imdb_dataset/thrillersport\n",
      "Created  /scratch/imdb_dataset/thrillerfantasy\n",
      "Created  /scratch/imdb_dataset/thrillermystery\n",
      "Created  /scratch/imdb_dataset/thrillerwar\n",
      "Created  /scratch/imdb_dataset/thrillermusical\n",
      "Created  /scratch/imdb_dataset/thrillerromance\n",
      "Created  /scratch/imdb_dataset/thrilleranimation\n",
      "Created  /scratch/imdb_dataset/thrillerwestern\n"
     ]
    }
   ],
   "source": [
    "if __name__ == '__main__':\n",
    "    import os\n",
    "\n",
    "    directory = '/scratch/imdb_dataset/'\n",
    "\n",
    "    ls = os.listdir(directory)\n",
    "    \n",
    "    i = 0\n",
    "    genres = []\n",
    "    for i, imgName in enumerate(ls):\n",
    "        genre = imgName.split('_')[-1].split('.')[0]\n",
    "        newDir = directory + genre\n",
    "        if not os.path.exists(newDir):\n",
    "#             print(\"Creating\", newDir)\n",
    "            genres.append(genre)\n",
    "            os.makedirs(newDir)\n",
    "\n",
    "\n",
    "        if os.path.isfile(directory + imgName):\n",
    "            os.rename(directory + imgName, newDir + '/' + imgName)\n",
    "\n",
    "        print(i, end='\\r')\n",
    "    \n",
    "    print('\\n')\n",
    "    \n",
    "    for genre in genres:\n",
    "        print(\"Created \", newDir + genre)"
   ]
  },
  {
   "cell_type": "code",
   "execution_count": null,
   "metadata": {},
   "outputs": [],
   "source": [
    "import os\n",
    "import pickle\n",
    "\n",
    "def createDirectories(directory):\n",
    "    if not os.path.exists(directory):\n",
    "        print(\"Creating\", directory)\n",
    "        os.makedirs(directory)\n",
    "\n",
    "    labels = None\n",
    "    with open('../bam_2_0_image_style_labels.pkl', 'rb') as handle:\n",
    "        labels = pickle.load(handle)\n",
    "\n",
    "    print(len(labels))\n",
    "\n",
    "    i = 0\n",
    "    for i, imgName in enumerate(labels):\n",
    "        newDir = directory + str(labels[imgName])\n",
    "        if not os.path.exists(newDir):\n",
    "            print(\"Creating\", newDir)\n",
    "            os.makedirs(newDir)\n",
    "\n",
    "        print(i, end='\\r')"
   ]
  }
 ],
 "metadata": {
  "kernelspec": {
   "display_name": "Python 3",
   "language": "python",
   "name": "python3"
  },
  "language_info": {
   "codemirror_mode": {
    "name": "ipython",
    "version": 3
   },
   "file_extension": ".py",
   "mimetype": "text/x-python",
   "name": "python",
   "nbconvert_exporter": "python",
   "pygments_lexer": "ipython3",
   "version": "3.5.2"
  }
 },
 "nbformat": 4,
 "nbformat_minor": 2
}
