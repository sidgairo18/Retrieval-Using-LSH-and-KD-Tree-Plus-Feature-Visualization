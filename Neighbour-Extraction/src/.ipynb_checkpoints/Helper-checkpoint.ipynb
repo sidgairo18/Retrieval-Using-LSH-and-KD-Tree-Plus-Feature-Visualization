{
 "cells": [
  {
   "cell_type": "markdown",
   "metadata": {},
   "source": [
    "# Helper Functions"
   ]
  },
  {
   "cell_type": "code",
   "execution_count": 21,
   "metadata": {},
   "outputs": [],
   "source": [
    "import os\n",
    "import random\n",
    "\n",
    "imagesLoaded = 0\n",
    "fileNames = None\n",
    "\n",
    "def sampleImages(directory, batch_size, start=None, testing=False):\n",
    "    global imagesLoaded\n",
    "    global fileNames\n",
    "    \n",
    "    if fileNames == None:\n",
    "        fileNames = os.listdir(directory)\n",
    "        random.shuffle(fileNames)\n",
    "\n",
    "    if start == None:\n",
    "        start = imagesLoaded\n",
    "\n",
    "    names = fileNames[start:start + batch_size]\n",
    "        \n",
    "    if testing:\n",
    "        print(len(names), \"images loaded.\")\n",
    "        print(\"[\", start, \"-\", start+len(names)-1, \"]\")\n",
    "    \n",
    "    imagesLoaded = max(start + len(names), imagesLoaded)"
   ]
  },
  {
   "cell_type": "code",
   "execution_count": null,
   "metadata": {},
   "outputs": [],
   "source": []
  }
 ],
 "metadata": {
  "kernelspec": {
   "display_name": "Python 3",
   "language": "python",
   "name": "python3"
  },
  "language_info": {
   "codemirror_mode": {
    "name": "ipython",
    "version": 3
   },
   "file_extension": ".py",
   "mimetype": "text/x-python",
   "name": "python",
   "nbconvert_exporter": "python",
   "pygments_lexer": "ipython3",
   "version": "3.5.2"
  }
 },
 "nbformat": 4,
 "nbformat_minor": 2
}
