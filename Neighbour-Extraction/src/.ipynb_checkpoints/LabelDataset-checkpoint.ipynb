{
 "cells": [
  {
   "cell_type": "markdown",
   "metadata": {},
   "source": [
    "# Dataset Labeling\n"
   ]
  },
  {
   "cell_type": "code",
   "execution_count": 14,
   "metadata": {},
   "outputs": [
    {
     "name": "stdout",
     "output_type": "stream",
     "text": [
      "121000\n",
      "Creating /scratch/bam_subset_2_0/9\n",
      "Creating /scratch/bam_subset_2_0/2\n",
      "Creating /scratch/bam_subset_2_0/1\n",
      "120000\r"
     ]
    }
   ],
   "source": [
    "if __name__ == '__main__':\n",
    "    import os\n",
    "    import pickle\n",
    "\n",
    "    directory = '/scratch/bam_subset_2_0_labeled/'\n",
    "\n",
    "    labels = None\n",
    "    with open('../bam_2_0_image_style_labels.pkl', 'rb') as handle:\n",
    "        labels = pickle.load(handle)\n",
    "\n",
    "    print(len(labels))\n",
    "\n",
    "    i = 0\n",
    "    for i, imgName in enumerate(labels):\n",
    "        newDir = directory + str(labels[imgName])\n",
    "        if not os.path.exists(newDir):\n",
    "            print(\"Creating\", newDir)\n",
    "            os.makedirs(newDir)\n",
    "\n",
    "        if os.path.isfile(directory + imgName):\n",
    "            os.rename(directory + imgName, newDir + '/' + imgName)\n",
    "\n",
    "        if (i%1000 == 0):\n",
    "            print(i, end='\\r')"
   ]
  },
  {
   "cell_type": "code",
   "execution_count": 7,
   "metadata": {},
   "outputs": [
    {
     "name": "stdout",
     "output_type": "stream",
     "text": [
      "Creating /scratch/imdb_dataset/horror\n",
      "Creating /scratch/imdb_dataset/romance\n",
      "Creating /scratch/imdb_dataset/drama\n",
      "Creating /scratch/imdb_dataset/thriller\n",
      "Creating /scratch/imdb_dataset/war\n",
      "Creating /scratch/imdb_dataset/mystery\n",
      "Creating /scratch/imdb_dataset/adventure\n",
      "Creating /scratch/imdb_dataset/comedy\n",
      "Creating /scratch/imdb_dataset/fantasy\n",
      "Creating /scratch/imdb_dataset/biography\n",
      "Creating /scratch/imdb_dataset/action\n",
      "Creating /scratch/imdb_dataset/family\n",
      "Creating /scratch/imdb_dataset/sport\n",
      "Creating /scratch/imdb_dataset/musical\n",
      "Creating /scratch/imdb_dataset/crime\n",
      "Creating /scratch/imdb_dataset/sci-fi\n",
      "Creating /scratch/imdb_dataset/animation\n",
      "Creating /scratch/imdb_dataset/music\n",
      "Creating /scratch/imdb_dataset/western\n",
      "Creating /scratch/imdb_dataset/history\n",
      "42000\r"
     ]
    }
   ],
   "source": [
    "if __name__ == '__main__':\n",
    "    import os\n",
    "\n",
    "    directory = '/scratch/imdb_dataset/'\n",
    "\n",
    "    ls = os.listdir(directory)\n",
    "    \n",
    "    i = 0\n",
    "    genres = []\n",
    "    for i, imgName in enumerate(ls):\n",
    "        genre = imgName.split('_')[-1].split('.')[0]\n",
    "        newDir = directory + genre\n",
    "        if not os.path.exists(newDir):\n",
    "#             print(\"Creating\", newDir)\n",
    "            genres.append(genre)\n",
    "            os.makedirs(newDir)\n",
    "\n",
    "\n",
    "        if os.path.isfile(directory + imgName):\n",
    "            os.rename(directory + imgName, newDir + '/' + imgName)\n",
    "\n",
    "        print(i, end='\\r')\n",
    "    \n",
    "    print('\\n')\n",
    "    \n",
    "    for genre in genres:\n",
    "        print(\"Created, \" newDir + genre)"
   ]
  },
  {
   "cell_type": "code",
   "execution_count": null,
   "metadata": {},
   "outputs": [],
   "source": [
    "import os\n",
    "import pickle\n",
    "\n",
    "def createDirectories(directory):\n",
    "    if not os.path.exists(directory):\n",
    "        print(\"Creating\", directory)\n",
    "        os.makedirs(directory)\n",
    "\n",
    "    labels = None\n",
    "    with open('../bam_2_0_image_style_labels.pkl', 'rb') as handle:\n",
    "        labels = pickle.load(handle)\n",
    "\n",
    "    print(len(labels))\n",
    "\n",
    "    i = 0\n",
    "    for i, imgName in enumerate(labels):\n",
    "        newDir = directory + str(labels[imgName])\n",
    "        if not os.path.exists(newDir):\n",
    "            print(\"Creating\", newDir)\n",
    "            os.makedirs(newDir)\n",
    "\n",
    "        print(i, end='\\r')"
   ]
  }
 ],
 "metadata": {
  "kernelspec": {
   "display_name": "Python 3",
   "language": "python",
   "name": "python3"
  },
  "language_info": {
   "codemirror_mode": {
    "name": "ipython",
    "version": 3
   },
   "file_extension": ".py",
   "mimetype": "text/x-python",
   "name": "python",
   "nbconvert_exporter": "python",
   "pygments_lexer": "ipython3",
   "version": "3.5.2"
  }
 },
 "nbformat": 4,
 "nbformat_minor": 2
}
