{
 "cells": [
  {
   "cell_type": "markdown",
   "metadata": {},
   "source": [
    "# Dataset Labeling\n"
   ]
  },
  {
   "cell_type": "code",
   "execution_count": 14,
   "metadata": {},
   "outputs": [
    {
     "name": "stdout",
     "output_type": "stream",
     "text": [
      "121000\n",
      "Creating /scratch/bam_subset_2_0/9\n",
      "Creating /scratch/bam_subset_2_0/2\n",
      "Creating /scratch/bam_subset_2_0/1\n",
      "120000\r"
     ]
    }
   ],
   "source": [
    "import os\n",
    "import pickle\n",
    "\n",
    "directory = '/scratch/bam_subset_2_0/'\n",
    "\n",
    "labels = None\n",
    "with open('../bam_2_0_image_style_labels.pkl', 'rb') as handle:\n",
    "    labels = pickle.load(handle)\n",
    "\n",
    "print(len(labels))\n",
    "\n",
    "i = 0\n",
    "for i, imgName in enumerate(labels):\n",
    "    newDir = directory + str(labels[imgName])\n",
    "    if not os.path.exists(newDir):\n",
    "        print(\"Creating\", newDir)\n",
    "        os.makedirs(newDir)\n",
    "\n",
    "    if os.path.isfile(directory + imgName):\n",
    "        os.rename(directory + imgName, newDir + '/' + imgName)\n",
    "\n",
    "    if (i%1000 == 0):\n",
    "        print(i, end='\\r')\n"
   ]
  }
 ],
 "metadata": {
  "kernelspec": {
   "display_name": "Python 3",
   "language": "python",
   "name": "python3"
  },
  "language_info": {
   "codemirror_mode": {
    "name": "ipython",
    "version": 3
   },
   "file_extension": ".py",
   "mimetype": "text/x-python",
   "name": "python",
   "nbconvert_exporter": "python",
   "pygments_lexer": "ipython3",
   "version": "3.5.2"
  }
 },
 "nbformat": 4,
 "nbformat_minor": 2
}
